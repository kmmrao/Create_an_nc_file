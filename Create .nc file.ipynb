{
 "cells": [
  {
   "cell_type": "markdown",
   "id": "bafa37fd",
   "metadata": {},
   "source": [
    "# Create an .nc file"
   ]
  },
  {
   "cell_type": "code",
   "execution_count": 21,
   "id": "823bde9c",
   "metadata": {},
   "outputs": [],
   "source": [
    "import netCDF4 as nc\n",
    "import numpy as np\n",
    "import pandas as pd\n",
    "import matplotlib.pyplot as plt"
   ]
  },
  {
   "cell_type": "code",
   "execution_count": 2,
   "id": "b40ee1aa",
   "metadata": {},
   "outputs": [],
   "source": [
    "bt_2700 = pd.read_excel(r'C:/Users/kmmra/OneDrive/Desktop/Draft/plots and figures/data/Backtrajectories/2700mts_1900Hrs.xlsx',\n",
    "                  skiprows=9, usecols='N:Q')"
   ]
  },
  {
   "cell_type": "code",
   "execution_count": 3,
   "id": "a6abdad3",
   "metadata": {},
   "outputs": [
    {
     "data": {
      "text/plain": [
       "Index(['Lat', 'Lon', 'Altitude', 'hpa'], dtype='object')"
      ]
     },
     "execution_count": 3,
     "metadata": {},
     "output_type": "execute_result"
    }
   ],
   "source": [
    "bt_2700.columns"
   ]
  },
  {
   "cell_type": "code",
   "execution_count": 4,
   "id": "6cee82de",
   "metadata": {},
   "outputs": [],
   "source": [
    "# bt_2700.describe"
   ]
  },
  {
   "cell_type": "code",
   "execution_count": 5,
   "id": "b151fb1a",
   "metadata": {},
   "outputs": [],
   "source": [
    "fn = 'C:/Users/kmmra/bt_2700.nc'\n",
    "ds = nc.Dataset(fn, 'w', format='NETCDF4')"
   ]
  },
  {
   "cell_type": "code",
   "execution_count": 6,
   "id": "ffd29cd9",
   "metadata": {},
   "outputs": [],
   "source": [
    "lat = ds.createDimension('lat', 169)\n",
    "lon = ds.createDimension('lon', 169)\n",
    "alt = ds.createDimension('alt', 169)\n",
    "hpa = ds.createDimension('hpa',169)"
   ]
  },
  {
   "cell_type": "code",
   "execution_count": 7,
   "id": "872111bb",
   "metadata": {},
   "outputs": [],
   "source": [
    "lats = ds.createVariable('lat', 'f4', ('lat',)) # f4 means float 32\n",
    "lons = ds.createVariable('lon', 'f4', ('lon',))\n",
    "alts = ds.createVariable('alt', 'f4', ('alt',))\n",
    "hpa = ds.createVariable('hpa', 'f4', ('hpa',))\n",
    "\n",
    "hpa.units = 'Hectapascal'\n",
    "lats.units = 'Degrees'\n",
    "lons.units = 'Degrees'\n",
    "alts.units = 'Kilometers'"
   ]
  },
  {
   "cell_type": "code",
   "execution_count": 9,
   "id": "cce24ec5",
   "metadata": {},
   "outputs": [],
   "source": [
    "lats[:] =bt_2700['Lat']\n",
    "lons[:] =bt_2700['Lon']\n",
    "alts[:] =bt_2700['Altitude']\n",
    "hpa[:]  =bt_2700['hpa']"
   ]
  },
  {
   "cell_type": "code",
   "execution_count": 12,
   "id": "9a3bd134",
   "metadata": {},
   "outputs": [
    {
     "name": "stdout",
     "output_type": "stream",
     "text": [
      "var size before adding data (169,)\n"
     ]
    }
   ],
   "source": [
    "print('var size before adding data', hpa.shape)"
   ]
  },
  {
   "cell_type": "code",
   "execution_count": 13,
   "id": "c1847e50",
   "metadata": {},
   "outputs": [],
   "source": [
    "ds.close()"
   ]
  },
  {
   "cell_type": "markdown",
   "id": "17ccb580",
   "metadata": {},
   "source": [
    "# Open .nc file and load data"
   ]
  },
  {
   "cell_type": "code",
   "execution_count": 23,
   "id": "7db5adcf",
   "metadata": {},
   "outputs": [],
   "source": [
    "from netCDF4 import Dataset\n",
    "import numpy as np"
   ]
  },
  {
   "cell_type": "code",
   "execution_count": 15,
   "id": "27019fc5",
   "metadata": {},
   "outputs": [],
   "source": [
    "my_example_nc_file = 'C:/Users/kmmra/bt_2700.nc'\n",
    "fh = nc.Dataset(my_example_nc_file, mode='r')"
   ]
  },
  {
   "cell_type": "code",
   "execution_count": 16,
   "id": "36dd0cb4",
   "metadata": {},
   "outputs": [
    {
     "data": {
      "text/plain": [
       "<class 'netCDF4._netCDF4.Dataset'>\n",
       "root group (NETCDF4 data model, file format HDF5):\n",
       "    dimensions(sizes): lat(169), lon(169), alt(169), hpa(169)\n",
       "    variables(dimensions): float32 lat(lat), float32 lon(lon), float32 alt(alt), float32 hpa(hpa)\n",
       "    groups: "
      ]
     },
     "execution_count": 16,
     "metadata": {},
     "output_type": "execute_result"
    }
   ],
   "source": [
    "lats = data.variables['lat'][:]"
   ]
  },
  {
   "cell_type": "code",
   "execution_count": 17,
   "id": "adacf92f",
   "metadata": {},
   "outputs": [
    {
     "name": "stdout",
     "output_type": "stream",
     "text": [
      "<class 'netCDF4._netCDF4.Dataset'>\n",
      "root group (NETCDF4 data model, file format HDF5):\n",
      "    dimensions(sizes): lat(169), lon(169), alt(169), hpa(169)\n",
      "    variables(dimensions): float32 lat(lat), float32 lon(lon), float32 alt(alt), float32 hpa(hpa)\n",
      "    groups: \n"
     ]
    }
   ],
   "source": [
    "print(fh)"
   ]
  },
  {
   "cell_type": "code",
   "execution_count": 19,
   "id": "78b12293",
   "metadata": {},
   "outputs": [],
   "source": [
    "lats = fh.variables['lat']"
   ]
  },
  {
   "cell_type": "code",
   "execution_count": 20,
   "id": "d852df73",
   "metadata": {},
   "outputs": [],
   "source": [
    "lons = fh.variables['lon']"
   ]
  },
  {
   "cell_type": "code",
   "execution_count": 23,
   "id": "b0226969",
   "metadata": {},
   "outputs": [
    {
     "data": {
      "text/plain": [
       "[<matplotlib.lines.Line2D at 0x2653279e7f0>]"
      ]
     },
     "execution_count": 23,
     "metadata": {},
     "output_type": "execute_result"
    },
    {
     "data": {
      "image/png": "[encoded data removed]",
      "text/plain": [
       "<Figure size 432x288 with 1 Axes>"
      ]
     },
     "metadata": {
      "needs_background": "light"
     },
     "output_type": "display_data"
    }
   ],
   "source": [
    "plt.plot(lons,lats)"
   ]
  },
  {
   "cell_type": "code",
   "execution_count": 97,
   "id": "95ba0052",
   "metadata": {},
   "outputs": [],
   "source": [
    "ds.close()"
   ]
  }
 ],
 "metadata": {
  "kernelspec": {
   "display_name": "Python 3",
   "language": "python",
   "name": "python3"
  },
  "language_info": {
   "codemirror_mode": {
    "name": "ipython",
    "version": 3
   },
   "file_extension": ".py",
   "mimetype": "text/x-python",
   "name": "python",
   "nbconvert_exporter": "python",
   "pygments_lexer": "ipython3",
   "version": "3.8.8"
  }
 },
 "nbformat": 4,
 "nbformat_minor": 5
}
